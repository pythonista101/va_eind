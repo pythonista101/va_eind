{
 "cells": [
  {
   "cell_type": "code",
   "execution_count": 1,
   "id": "00b21a08",
   "metadata": {},
   "outputs": [],
   "source": [
    "from streamlit import *\n",
    "import folium\n",
    "import pandas as pd\n",
    "import numpy as np\n",
    "import requests\n",
    "pd.set_option('display.max_rows', None)\n",
    "pd.set_option('display.max_columns', None)\n",
    "import seaborn as sns\n",
    "import matplotlib.pyplot as plt"
   ]
  },
  {
   "cell_type": "code",
   "execution_count": 2,
   "id": "98d7198d",
   "metadata": {},
   "outputs": [
    {
     "name": "stderr",
     "output_type": "stream",
     "text": [
      "C:\\Users\\daanh\\AppData\\Local\\Temp\\ipykernel_1264\\633638840.py:1: DtypeWarning: Columns (2) have mixed types. Specify dtype option on import or set low_memory=False.\n",
      "  weather = pd.read_csv('city_temperature.csv')\n"
     ]
    },
    {
     "name": "stdout",
     "output_type": "stream",
     "text": [
      "(2906327, 8)\n"
     ]
    },
    {
     "data": {
      "text/html": [
       "<div>\n",
       "<style scoped>\n",
       "    .dataframe tbody tr th:only-of-type {\n",
       "        vertical-align: middle;\n",
       "    }\n",
       "\n",
       "    .dataframe tbody tr th {\n",
       "        vertical-align: top;\n",
       "    }\n",
       "\n",
       "    .dataframe thead th {\n",
       "        text-align: right;\n",
       "    }\n",
       "</style>\n",
       "<table border=\"1\" class=\"dataframe\">\n",
       "  <thead>\n",
       "    <tr style=\"text-align: right;\">\n",
       "      <th></th>\n",
       "      <th>Region</th>\n",
       "      <th>Country</th>\n",
       "      <th>State</th>\n",
       "      <th>City</th>\n",
       "      <th>Month</th>\n",
       "      <th>Day</th>\n",
       "      <th>Year</th>\n",
       "      <th>AvgTemperature</th>\n",
       "    </tr>\n",
       "  </thead>\n",
       "  <tbody>\n",
       "    <tr>\n",
       "      <th>0</th>\n",
       "      <td>Africa</td>\n",
       "      <td>Algeria</td>\n",
       "      <td>NaN</td>\n",
       "      <td>Algiers</td>\n",
       "      <td>1</td>\n",
       "      <td>1</td>\n",
       "      <td>1995</td>\n",
       "      <td>64.2</td>\n",
       "    </tr>\n",
       "    <tr>\n",
       "      <th>1</th>\n",
       "      <td>Africa</td>\n",
       "      <td>Algeria</td>\n",
       "      <td>NaN</td>\n",
       "      <td>Algiers</td>\n",
       "      <td>1</td>\n",
       "      <td>2</td>\n",
       "      <td>1995</td>\n",
       "      <td>49.4</td>\n",
       "    </tr>\n",
       "    <tr>\n",
       "      <th>2</th>\n",
       "      <td>Africa</td>\n",
       "      <td>Algeria</td>\n",
       "      <td>NaN</td>\n",
       "      <td>Algiers</td>\n",
       "      <td>1</td>\n",
       "      <td>3</td>\n",
       "      <td>1995</td>\n",
       "      <td>48.8</td>\n",
       "    </tr>\n",
       "    <tr>\n",
       "      <th>3</th>\n",
       "      <td>Africa</td>\n",
       "      <td>Algeria</td>\n",
       "      <td>NaN</td>\n",
       "      <td>Algiers</td>\n",
       "      <td>1</td>\n",
       "      <td>4</td>\n",
       "      <td>1995</td>\n",
       "      <td>46.4</td>\n",
       "    </tr>\n",
       "    <tr>\n",
       "      <th>4</th>\n",
       "      <td>Africa</td>\n",
       "      <td>Algeria</td>\n",
       "      <td>NaN</td>\n",
       "      <td>Algiers</td>\n",
       "      <td>1</td>\n",
       "      <td>5</td>\n",
       "      <td>1995</td>\n",
       "      <td>47.9</td>\n",
       "    </tr>\n",
       "  </tbody>\n",
       "</table>\n",
       "</div>"
      ],
      "text/plain": [
       "   Region  Country State     City  Month  Day  Year  AvgTemperature\n",
       "0  Africa  Algeria   NaN  Algiers      1    1  1995            64.2\n",
       "1  Africa  Algeria   NaN  Algiers      1    2  1995            49.4\n",
       "2  Africa  Algeria   NaN  Algiers      1    3  1995            48.8\n",
       "3  Africa  Algeria   NaN  Algiers      1    4  1995            46.4\n",
       "4  Africa  Algeria   NaN  Algiers      1    5  1995            47.9"
      ]
     },
     "execution_count": 2,
     "metadata": {},
     "output_type": "execute_result"
    }
   ],
   "source": [
    "weather = pd.read_csv('city_temperature.csv')\n",
    "print(weather.shape)\n",
    "weather.head()"
   ]
  },
  {
   "cell_type": "code",
   "execution_count": 3,
   "id": "bda189bf",
   "metadata": {},
   "outputs": [],
   "source": [
    "def fah_to_c(fah):\n",
    "    if fah < -75:\n",
    "        return np.nan\n",
    "    else: \n",
    "        return (fah - 32)/1.8\n",
    "weather.AvgTemperature = weather.AvgTemperature.map(fah_to_c)"
   ]
  },
  {
   "cell_type": "code",
   "execution_count": 4,
   "id": "859a7f4e",
   "metadata": {},
   "outputs": [],
   "source": [
    "weather.loc[weather.City == 'Hamburg', 'City'] = 'Berlin'"
   ]
  },
  {
   "cell_type": "code",
   "execution_count": 5,
   "id": "b5e16a61",
   "metadata": {},
   "outputs": [],
   "source": [
    "cities_list=[\"Amsterdam\",\"Athens\",\"Barcelona\",\"Berlin\",\"Budapest\",\"Lisbon\",\"London\",\"Paris\",\"Rome\",\"Vienna\",]\n",
    "weather = weather[weather.City.isin(cities_list)]"
   ]
  },
  {
   "cell_type": "code",
   "execution_count": 6,
   "id": "1161bb09",
   "metadata": {},
   "outputs": [],
   "source": [
    "cities_in_data = weather.City.unique()"
   ]
  },
  {
   "cell_type": "code",
   "execution_count": 7,
   "id": "ba27d39d",
   "metadata": {},
   "outputs": [],
   "source": [
    "assert set(cities_list) == set(cities_in_data)"
   ]
  },
  {
   "cell_type": "code",
   "execution_count": 8,
   "id": "bcc8391a",
   "metadata": {},
   "outputs": [],
   "source": [
    "def create_timestamp(year, month, day):\n",
    "    return pd.to_datetime(f'{year} {month} {day}')"
   ]
  },
  {
   "cell_type": "code",
   "execution_count": 9,
   "id": "648782b4",
   "metadata": {},
   "outputs": [
    {
     "name": "stdout",
     "output_type": "stream",
     "text": [
      "176\n"
     ]
    }
   ],
   "source": [
    "ts_col = []\n",
    "faultcount = 0\n",
    "for row in weather.itertuples():\n",
    "    try:\n",
    "        ts_col.append(create_timestamp(row.Year, row.Month, row.Day))\n",
    "    except:\n",
    "        ts_col.append(np.nan)\n",
    "        faultcount+=1\n",
    "print(faultcount)"
   ]
  },
  {
   "cell_type": "code",
   "execution_count": 10,
   "id": "8d4128bc",
   "metadata": {},
   "outputs": [],
   "source": [
    "weather['Timestamp'] = ts_col"
   ]
  },
  {
   "cell_type": "code",
   "execution_count": 11,
   "id": "b5344bb3",
   "metadata": {},
   "outputs": [],
   "source": [
    "weather.drop(columns=['Region', 'Country','Month','Day' , 'Year' ,'State'], inplace=True)"
   ]
  },
  {
   "cell_type": "code",
   "execution_count": 12,
   "id": "b33fbb62",
   "metadata": {},
   "outputs": [],
   "source": [
    "weather.dropna(inplace=True)"
   ]
  },
  {
   "cell_type": "code",
   "execution_count": 13,
   "id": "2a5d5b6f",
   "metadata": {},
   "outputs": [
    {
     "data": {
      "text/html": [
       "<div>\n",
       "<style scoped>\n",
       "    .dataframe tbody tr th:only-of-type {\n",
       "        vertical-align: middle;\n",
       "    }\n",
       "\n",
       "    .dataframe tbody tr th {\n",
       "        vertical-align: top;\n",
       "    }\n",
       "\n",
       "    .dataframe thead th {\n",
       "        text-align: right;\n",
       "    }\n",
       "</style>\n",
       "<table border=\"1\" class=\"dataframe\">\n",
       "  <thead>\n",
       "    <tr style=\"text-align: right;\">\n",
       "      <th></th>\n",
       "      <th>City</th>\n",
       "      <th>AvgTemperature</th>\n",
       "      <th>Timestamp</th>\n",
       "    </tr>\n",
       "  </thead>\n",
       "  <tbody>\n",
       "    <tr>\n",
       "      <th>632643</th>\n",
       "      <td>Vienna</td>\n",
       "      <td>2.055556</td>\n",
       "      <td>1995-01-01</td>\n",
       "    </tr>\n",
       "    <tr>\n",
       "      <th>632644</th>\n",
       "      <td>Vienna</td>\n",
       "      <td>1.500000</td>\n",
       "      <td>1995-01-02</td>\n",
       "    </tr>\n",
       "    <tr>\n",
       "      <th>632645</th>\n",
       "      <td>Vienna</td>\n",
       "      <td>-0.333333</td>\n",
       "      <td>1995-01-03</td>\n",
       "    </tr>\n",
       "    <tr>\n",
       "      <th>632646</th>\n",
       "      <td>Vienna</td>\n",
       "      <td>-3.777778</td>\n",
       "      <td>1995-01-04</td>\n",
       "    </tr>\n",
       "    <tr>\n",
       "      <th>632647</th>\n",
       "      <td>Vienna</td>\n",
       "      <td>-5.000000</td>\n",
       "      <td>1995-01-05</td>\n",
       "    </tr>\n",
       "  </tbody>\n",
       "</table>\n",
       "</div>"
      ],
      "text/plain": [
       "          City  AvgTemperature  Timestamp\n",
       "632643  Vienna        2.055556 1995-01-01\n",
       "632644  Vienna        1.500000 1995-01-02\n",
       "632645  Vienna       -0.333333 1995-01-03\n",
       "632646  Vienna       -3.777778 1995-01-04\n",
       "632647  Vienna       -5.000000 1995-01-05"
      ]
     },
     "execution_count": 13,
     "metadata": {},
     "output_type": "execute_result"
    }
   ],
   "source": [
    "weather.head()"
   ]
  },
  {
   "cell_type": "code",
   "execution_count": 14,
   "id": "4e1a87dd",
   "metadata": {},
   "outputs": [
    {
     "data": {
      "text/html": [
       "<div>\n",
       "<style scoped>\n",
       "    .dataframe tbody tr th:only-of-type {\n",
       "        vertical-align: middle;\n",
       "    }\n",
       "\n",
       "    .dataframe tbody tr th {\n",
       "        vertical-align: top;\n",
       "    }\n",
       "\n",
       "    .dataframe thead th {\n",
       "        text-align: right;\n",
       "    }\n",
       "</style>\n",
       "<table border=\"1\" class=\"dataframe\">\n",
       "  <thead>\n",
       "    <tr style=\"text-align: right;\">\n",
       "      <th>City</th>\n",
       "      <th>Amsterdam</th>\n",
       "      <th>Athens</th>\n",
       "      <th>Barcelona</th>\n",
       "      <th>Berlin</th>\n",
       "      <th>Budapest</th>\n",
       "      <th>Lisbon</th>\n",
       "      <th>London</th>\n",
       "      <th>Paris</th>\n",
       "      <th>Rome</th>\n",
       "      <th>Vienna</th>\n",
       "    </tr>\n",
       "    <tr>\n",
       "      <th>Timestamp</th>\n",
       "      <th></th>\n",
       "      <th></th>\n",
       "      <th></th>\n",
       "      <th></th>\n",
       "      <th></th>\n",
       "      <th></th>\n",
       "      <th></th>\n",
       "      <th></th>\n",
       "      <th></th>\n",
       "      <th></th>\n",
       "    </tr>\n",
       "  </thead>\n",
       "  <tbody>\n",
       "    <tr>\n",
       "      <th>1995-01-01</th>\n",
       "      <td>3.111111</td>\n",
       "      <td>17.555556</td>\n",
       "      <td>10.444444</td>\n",
       "      <td>NaN</td>\n",
       "      <td>1.611111</td>\n",
       "      <td>11.944444</td>\n",
       "      <td>1.222222</td>\n",
       "      <td>3.000000</td>\n",
       "      <td>14.611111</td>\n",
       "      <td>2.055556</td>\n",
       "    </tr>\n",
       "    <tr>\n",
       "      <th>1995-01-02</th>\n",
       "      <td>3.666667</td>\n",
       "      <td>17.555556</td>\n",
       "      <td>6.944444</td>\n",
       "      <td>NaN</td>\n",
       "      <td>1.611111</td>\n",
       "      <td>8.277778</td>\n",
       "      <td>0.333333</td>\n",
       "      <td>1.777778</td>\n",
       "      <td>8.055556</td>\n",
       "      <td>1.500000</td>\n",
       "    </tr>\n",
       "    <tr>\n",
       "      <th>1995-01-03</th>\n",
       "      <td>0.722222</td>\n",
       "      <td>12.500000</td>\n",
       "      <td>5.000000</td>\n",
       "      <td>NaN</td>\n",
       "      <td>-1.666667</td>\n",
       "      <td>7.666667</td>\n",
       "      <td>-0.611111</td>\n",
       "      <td>2.222222</td>\n",
       "      <td>5.333333</td>\n",
       "      <td>-0.333333</td>\n",
       "    </tr>\n",
       "    <tr>\n",
       "      <th>1995-01-04</th>\n",
       "      <td>-1.555556</td>\n",
       "      <td>10.500000</td>\n",
       "      <td>4.000000</td>\n",
       "      <td>-4.666667</td>\n",
       "      <td>-2.222222</td>\n",
       "      <td>11.833333</td>\n",
       "      <td>3.166667</td>\n",
       "      <td>-0.722222</td>\n",
       "      <td>4.388889</td>\n",
       "      <td>-3.777778</td>\n",
       "    </tr>\n",
       "    <tr>\n",
       "      <th>1995-01-05</th>\n",
       "      <td>-3.444444</td>\n",
       "      <td>11.222222</td>\n",
       "      <td>4.333333</td>\n",
       "      <td>NaN</td>\n",
       "      <td>-0.555556</td>\n",
       "      <td>13.444444</td>\n",
       "      <td>4.166667</td>\n",
       "      <td>-2.777778</td>\n",
       "      <td>2.777778</td>\n",
       "      <td>-5.000000</td>\n",
       "    </tr>\n",
       "  </tbody>\n",
       "</table>\n",
       "</div>"
      ],
      "text/plain": [
       "City        Amsterdam     Athens  Barcelona    Berlin  Budapest     Lisbon  \\\n",
       "Timestamp                                                                    \n",
       "1995-01-01   3.111111  17.555556  10.444444       NaN  1.611111  11.944444   \n",
       "1995-01-02   3.666667  17.555556   6.944444       NaN  1.611111   8.277778   \n",
       "1995-01-03   0.722222  12.500000   5.000000       NaN -1.666667   7.666667   \n",
       "1995-01-04  -1.555556  10.500000   4.000000 -4.666667 -2.222222  11.833333   \n",
       "1995-01-05  -3.444444  11.222222   4.333333       NaN -0.555556  13.444444   \n",
       "\n",
       "City          London     Paris       Rome    Vienna  \n",
       "Timestamp                                            \n",
       "1995-01-01  1.222222  3.000000  14.611111  2.055556  \n",
       "1995-01-02  0.333333  1.777778   8.055556  1.500000  \n",
       "1995-01-03 -0.611111  2.222222   5.333333 -0.333333  \n",
       "1995-01-04  3.166667 -0.722222   4.388889 -3.777778  \n",
       "1995-01-05  4.166667 -2.777778   2.777778 -5.000000  "
      ]
     },
     "execution_count": 14,
     "metadata": {},
     "output_type": "execute_result"
    }
   ],
   "source": [
    "timeseries = weather.reset_index(drop=True).pivot_table(index='Timestamp', columns='City',\n",
    "                                                        values='AvgTemperature', aggfunc='mean')\n",
    "timeseries.head()"
   ]
  },
  {
   "cell_type": "code",
   "execution_count": 15,
   "id": "d3d84d02",
   "metadata": {},
   "outputs": [
    {
     "data": {
      "text/html": [
       "<div>\n",
       "<style scoped>\n",
       "    .dataframe tbody tr th:only-of-type {\n",
       "        vertical-align: middle;\n",
       "    }\n",
       "\n",
       "    .dataframe tbody tr th {\n",
       "        vertical-align: top;\n",
       "    }\n",
       "\n",
       "    .dataframe thead th {\n",
       "        text-align: right;\n",
       "    }\n",
       "</style>\n",
       "<table border=\"1\" class=\"dataframe\">\n",
       "  <thead>\n",
       "    <tr style=\"text-align: right;\">\n",
       "      <th>City</th>\n",
       "      <th>Amsterdam</th>\n",
       "      <th>Athens</th>\n",
       "      <th>Barcelona</th>\n",
       "      <th>Berlin</th>\n",
       "      <th>Budapest</th>\n",
       "      <th>Lisbon</th>\n",
       "      <th>London</th>\n",
       "      <th>Paris</th>\n",
       "      <th>Rome</th>\n",
       "      <th>Vienna</th>\n",
       "    </tr>\n",
       "    <tr>\n",
       "      <th>Timestamp</th>\n",
       "      <th></th>\n",
       "      <th></th>\n",
       "      <th></th>\n",
       "      <th></th>\n",
       "      <th></th>\n",
       "      <th></th>\n",
       "      <th></th>\n",
       "      <th></th>\n",
       "      <th></th>\n",
       "      <th></th>\n",
       "    </tr>\n",
       "  </thead>\n",
       "  <tbody>\n",
       "    <tr>\n",
       "      <th>1995-01-01</th>\n",
       "      <td>3.111111</td>\n",
       "      <td>17.555556</td>\n",
       "      <td>10.444444</td>\n",
       "      <td>-4.666667</td>\n",
       "      <td>1.611111</td>\n",
       "      <td>11.944444</td>\n",
       "      <td>1.222222</td>\n",
       "      <td>3.000000</td>\n",
       "      <td>14.611111</td>\n",
       "      <td>2.055556</td>\n",
       "    </tr>\n",
       "    <tr>\n",
       "      <th>1995-01-02</th>\n",
       "      <td>3.666667</td>\n",
       "      <td>17.555556</td>\n",
       "      <td>6.944444</td>\n",
       "      <td>-4.666667</td>\n",
       "      <td>1.611111</td>\n",
       "      <td>8.277778</td>\n",
       "      <td>0.333333</td>\n",
       "      <td>1.777778</td>\n",
       "      <td>8.055556</td>\n",
       "      <td>1.500000</td>\n",
       "    </tr>\n",
       "    <tr>\n",
       "      <th>1995-01-03</th>\n",
       "      <td>0.722222</td>\n",
       "      <td>12.500000</td>\n",
       "      <td>5.000000</td>\n",
       "      <td>-4.666667</td>\n",
       "      <td>-1.666667</td>\n",
       "      <td>7.666667</td>\n",
       "      <td>-0.611111</td>\n",
       "      <td>2.222222</td>\n",
       "      <td>5.333333</td>\n",
       "      <td>-0.333333</td>\n",
       "    </tr>\n",
       "    <tr>\n",
       "      <th>1995-01-04</th>\n",
       "      <td>-1.555556</td>\n",
       "      <td>10.500000</td>\n",
       "      <td>4.000000</td>\n",
       "      <td>-4.666667</td>\n",
       "      <td>-2.222222</td>\n",
       "      <td>11.833333</td>\n",
       "      <td>3.166667</td>\n",
       "      <td>-0.722222</td>\n",
       "      <td>4.388889</td>\n",
       "      <td>-3.777778</td>\n",
       "    </tr>\n",
       "    <tr>\n",
       "      <th>1995-01-05</th>\n",
       "      <td>-3.444444</td>\n",
       "      <td>11.222222</td>\n",
       "      <td>4.333333</td>\n",
       "      <td>-3.455556</td>\n",
       "      <td>-0.555556</td>\n",
       "      <td>13.444444</td>\n",
       "      <td>4.166667</td>\n",
       "      <td>-2.777778</td>\n",
       "      <td>2.777778</td>\n",
       "      <td>-5.000000</td>\n",
       "    </tr>\n",
       "  </tbody>\n",
       "</table>\n",
       "</div>"
      ],
      "text/plain": [
       "City        Amsterdam     Athens  Barcelona    Berlin  Budapest     Lisbon  \\\n",
       "Timestamp                                                                    \n",
       "1995-01-01   3.111111  17.555556  10.444444 -4.666667  1.611111  11.944444   \n",
       "1995-01-02   3.666667  17.555556   6.944444 -4.666667  1.611111   8.277778   \n",
       "1995-01-03   0.722222  12.500000   5.000000 -4.666667 -1.666667   7.666667   \n",
       "1995-01-04  -1.555556  10.500000   4.000000 -4.666667 -2.222222  11.833333   \n",
       "1995-01-05  -3.444444  11.222222   4.333333 -3.455556 -0.555556  13.444444   \n",
       "\n",
       "City          London     Paris       Rome    Vienna  \n",
       "Timestamp                                            \n",
       "1995-01-01  1.222222  3.000000  14.611111  2.055556  \n",
       "1995-01-02  0.333333  1.777778   8.055556  1.500000  \n",
       "1995-01-03 -0.611111  2.222222   5.333333 -0.333333  \n",
       "1995-01-04  3.166667 -0.722222   4.388889 -3.777778  \n",
       "1995-01-05  4.166667 -2.777778   2.777778 -5.000000  "
      ]
     },
     "execution_count": 15,
     "metadata": {},
     "output_type": "execute_result"
    }
   ],
   "source": [
    "timeseries=timeseries.interpolate().fillna(method='bfill').fillna(method='ffill')\n",
    "timeseries.head()"
   ]
  },
  {
   "cell_type": "code",
   "execution_count": 16,
   "id": "a797f26a",
   "metadata": {},
   "outputs": [],
   "source": [
    "# timeseries.to_csv('weather_timeseries.csv')\n",
    "# weather.head().to_csv('weather_head.csv')"
   ]
  },
  {
   "cell_type": "code",
   "execution_count": 17,
   "id": "57d9811f",
   "metadata": {},
   "outputs": [
    {
     "name": "stderr",
     "output_type": "stream",
     "text": [
      "C:\\Users\\daanh\\AppData\\Local\\Temp\\ipykernel_1264\\452900855.py:6: UserWarning: Matplotlib is currently using module://matplotlib_inline.backend_inline, which is a non-GUI backend, so cannot show the figure.\n",
      "  fig.show()\n"
     ]
    },
    {
     "data": {
      "image/png": "[encoded data removed]",
      "text/plain": [
       "<Figure size 432x288 with 1 Axes>"
      ]
     },
     "metadata": {
      "needs_background": "light"
     },
     "output_type": "display_data"
    }
   ],
   "source": [
    "fig,t=plt.subplots()\n",
    "timeseries.loc[((timeseries.index>'2006' )&(timeseries.index< '2007') ),'Amsterdam'].plot(ax=t,label='Ams')\n",
    "timeseries.loc[((timeseries.index>'2006' )&(timeseries.index< '2007') ),'Budapest'].plot(ax=t,label='BUD')\n",
    "t.set_yscale('symlog')\n",
    "t.legend()\n",
    "fig.show()"
   ]
  }
 ],
 "metadata": {
  "kernelspec": {
   "display_name": "Python 3 (ipykernel)",
   "language": "python",
   "name": "python3"
  },
  "language_info": {
   "codemirror_mode": {
    "name": "ipython",
    "version": 3
   },
   "file_extension": ".py",
   "mimetype": "text/x-python",
   "name": "python",
   "nbconvert_exporter": "python",
   "pygments_lexer": "ipython3",
   "version": "3.9.12"
  }
 },
 "nbformat": 4,
 "nbformat_minor": 5
}
